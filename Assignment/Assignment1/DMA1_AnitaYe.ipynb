{
 "cells": [
  {
   "cell_type": "code",
   "execution_count": 1,
   "id": "443df1ae",
   "metadata": {},
   "outputs": [],
   "source": [
    "import math\n",
    "from math import sqrt"
   ]
  },
  {
   "cell_type": "markdown",
   "id": "39ad5d4d",
   "metadata": {},
   "source": [
    "1. Write a function factors that given a positive integer n, returns a set of the factors of n (including 1 and n itself.) Do not use a set comprehension."
   ]
  },
  {
   "cell_type": "code",
   "execution_count": 2,
   "id": "30505816",
   "metadata": {},
   "outputs": [
    {
     "name": "stdout",
     "output_type": "stream",
     "text": [
      "{1, 2, 10, 5}\n"
     ]
    }
   ],
   "source": [
    "#This function returns a set of factors of a given integer using a for loop that test from 1 to n if i is a factor, \n",
    "#and add it to an empty set\n",
    "def factor(n):\n",
    "    s=set()\n",
    "    for i in range(1,n+1):\n",
    "        if(n%i==0):\n",
    "            s.add(i)\n",
    "    return s\n",
    "print(factor(10))"
   ]
  },
  {
   "cell_type": "markdown",
   "id": "7e24cef1",
   "metadata": {},
   "source": [
    "2. Rewrite your factors function using one or more set comprehensions."
   ]
  },
  {
   "cell_type": "code",
   "execution_count": 3,
   "id": "37c2a82c",
   "metadata": {},
   "outputs": [
    {
     "name": "stdout",
     "output_type": "stream",
     "text": [
      "{1, 2, 10, 5}\n"
     ]
    }
   ],
   "source": [
    "# this function uses set comprehension that loops through 1 to n in one line and determine if i should be in set of factors\n",
    "def factor2(n):\n",
    "    return {s for s in range(1,n+1) if not n%s}\n",
    "print(factor2(10))"
   ]
  },
  {
   "cell_type": "markdown",
   "id": "f572d033",
   "metadata": {},
   "source": [
    "3. Write a function Venn that takes two numbers m and n and results a list of three sets:\n",
    "• The factors of m that are not factors of n\n",
    "• The factors of n that are not factors of m\n",
    "• The common factors of m and n (this set will always include 1)"
   ]
  },
  {
   "cell_type": "code",
   "execution_count": 4,
   "id": "bfe306d0",
   "metadata": {},
   "outputs": [
    {
     "name": "stdout",
     "output_type": "stream",
     "text": [
      "[{10, 5}, {3, 6}, {1, 2}]\n"
     ]
    }
   ],
   "source": [
    "#this function returns three sets: factors of m not n; factors of n not m, and their common factors. \\\n",
    "# for the first two sets I used the function factors2 to get the factors, and then - and & for set operation\n",
    "# then the third list I used union to get the common factors\n",
    "def Venn(m,n):\n",
    "    ms = factor2(m)\n",
    "    ns = factor2(n)\n",
    "    s1 = ms-ns #{s for s in ms if s not in ns}\n",
    "    s2 = ns-ms #{s for s in ns if s not in ms}\n",
    "    s3 = ms & ns\n",
    "    #l = [s1,s2,s3]\n",
    "    return [s1,s2,s3]\n",
    "print(Venn(10,6))"
   ]
  },
  {
   "cell_type": "markdown",
   "id": "1a3554ce",
   "metadata": {},
   "source": [
    "4. Write a function relativelyPrime that uses your Venn function to determine if two numbers are relatively prime. Two numbers are relatively prime if their only common factor is one. Note that two numbers can be relatively prime even if neither of them is prime. For instance, 25 and 36 are relatively prime."
   ]
  },
  {
   "cell_type": "code",
   "execution_count": 5,
   "id": "997fbed0",
   "metadata": {},
   "outputs": [
    {
     "name": "stdout",
     "output_type": "stream",
     "text": [
      "True\n"
     ]
    }
   ],
   "source": [
    "#this function returns if two numbeers are relatively prime\n",
    "#relatively prime is the same as having one as the only common factor, therefore I used Venn function to get the \n",
    "#common factors, which is the third set in the returned list, and then determine if the set includes only one. \n",
    "def relativelyPrime(x,y):\n",
    "    return Venn(x,y)[2]=={1}\n",
    "\n",
    "print(relativelyPrime(25,36))"
   ]
  },
  {
   "cell_type": "markdown",
   "id": "e540677a",
   "metadata": {},
   "source": [
    "5. Every composite (non-prime) number below 100 is divisible by either 2, 3, 5, or 7. Use this fact to produce a list of prime numbers. Start with the list [2, 3, 5, 7] and the list of numbers from 2 to 100, and remove all the multiples of 2, 3, 5, and 7 from the latter list. This is a variant of the \"Sieve of Eratosthenes.\""
   ]
  },
  {
   "cell_type": "code",
   "execution_count": 6,
   "id": "5264ff5f",
   "metadata": {},
   "outputs": [
    {
     "name": "stdout",
     "output_type": "stream",
     "text": [
      "[2, 3, 5, 7, 11, 13, 17, 19, 23, 29, 31, 37, 41, 43, 47, 53, 59, 61, 67, 71, 73, 79, 83, 89, 97]\n"
     ]
    }
   ],
   "source": [
    "#this function returns prime numbers within n, n=100 by removing multiples of 2,3,5 and 7 \n",
    "#we first initilized two list, all numbers from 2 to n and [2,3,5,7], then iterates through 2,3,5 and 7 to remove multiples\n",
    "#and keeps 2,3,5,7 in the list with condition j!=i\n",
    "def q5(n):\n",
    "    l = [2,3,5,7]\n",
    "    c = list(range(2,n+1))\n",
    "    for i in l:\n",
    "        for j in c:\n",
    "            if(j%i==0 and j!=i):\n",
    "                c.remove(j)\n",
    "    return(c)\n",
    "print(q5(100))\n"
   ]
  },
  {
   "cell_type": "markdown",
   "id": "838ae32d",
   "metadata": {},
   "source": [
    "6. Write a function prime that determines whether a number is prime. Do not use a while loop, a for loop, or the def function definition construct. Instead, use lambda and map. You may also need to use range, int, and list. You can use \"if\" in your lambda to handle the fact that 1 is not prime.\n",
    "\n",
    "Hint: if the number you are testing for primality is n, create a list of all the remainders that result by dividing n by all the integers from 2 up and possibly including its square root (if its square root is an integer). If all these remainders are non-zero, then your number is prime. "
   ]
  },
  {
   "cell_type": "code",
   "execution_count": 7,
   "id": "4ac4ce80",
   "metadata": {},
   "outputs": [
    {
     "name": "stdout",
     "output_type": "stream",
     "text": [
      "True\n",
      "False\n",
      "True\n"
     ]
    }
   ],
   "source": [
    "#this function returns if a number is prime using lambda and map\n",
    "#map creates a map of remainders through 2 to sqrt(x)+1\n",
    "#then we determine if 0 is never in the map, which means that none of the i is a factor\n",
    "prime = lambda x: False if x==1 else 0 not in map(lambda i:x%i, range(2,int(sqrt(x))+1))\n",
    "print(prime(2))\n",
    "print(prime(1))\n",
    "print(prime(7))\n"
   ]
  },
  {
   "cell_type": "markdown",
   "id": "aed62f79",
   "metadata": {},
   "source": [
    "7. Using your prime function from the previous problem, generate a list of the prime numbers between 2 and 100. Do not use a loop; rather use \"filter.\""
   ]
  },
  {
   "cell_type": "code",
   "execution_count": 8,
   "id": "82b63e8e",
   "metadata": {},
   "outputs": [
    {
     "name": "stdout",
     "output_type": "stream",
     "text": [
      "[2, 3, 5, 7, 11, 13, 17, 19, 23, 29, 31, 37, 41, 43, 47, 53, 59, 61, 67, 71, 73, 79, 83, 89, 97]\n"
     ]
    }
   ],
   "source": [
    "#this function uses the prime function before to generate list of prime numbers within 100\n",
    "x = filter(prime, range(2,100+1))\n",
    "print(list(x))"
   ]
  },
  {
   "cell_type": "markdown",
   "id": "a0d0f79e",
   "metadata": {},
   "source": [
    "8. Use lambda, filter, and your factors function from above (either version) to define a function primeFactors that returns the prime factors of a number n. Do not use a loop."
   ]
  },
  {
   "cell_type": "code",
   "execution_count": 9,
   "id": "9ee307b9",
   "metadata": {},
   "outputs": [
    {
     "name": "stdout",
     "output_type": "stream",
     "text": [
      "[2, 5, 7]\n"
     ]
    }
   ],
   "source": [
    "#This function uses the prime and factor function to determine the prime factors\n",
    "def primeFactors(n):\n",
    "    x = list(filter(lambda n: prime(n), factor2(n)))\n",
    "    #y = factor2(n)\n",
    "    return x\n",
    "print(primeFactors(70))\n"
   ]
  },
  {
   "cell_type": "code",
   "execution_count": 10,
   "id": "07c2d77d",
   "metadata": {},
   "outputs": [
    {
     "name": "stdout",
     "output_type": "stream",
     "text": [
      "[2, 5, 7]\n"
     ]
    }
   ],
   "source": [
    "primeFactors = lambda n: list(filter(lambda x: prime(x), factor2(n)))\n",
    "print(primeFactors(70))"
   ]
  },
  {
   "cell_type": "markdown",
   "id": "e3470e95",
   "metadata": {},
   "source": [
    "9. Write a simple function called divide that takes two arguments a and b which returns a divided by b. Undecorated, it should generate a runtime error if b is zero. Decorate divide with a function called trapError which transforms it so that it avoids the runtime error and instead returns None if b is zero."
   ]
  },
  {
   "cell_type": "code",
   "execution_count": 11,
   "id": "ba178124",
   "metadata": {},
   "outputs": [
    {
     "ename": "ZeroDivisionError",
     "evalue": "division by zero",
     "output_type": "error",
     "traceback": [
      "\u001b[0;31m---------------------------------------------------------------------------\u001b[0m",
      "\u001b[0;31mZeroDivisionError\u001b[0m                         Traceback (most recent call last)",
      "Input \u001b[0;32mIn [11]\u001b[0m, in \u001b[0;36m<cell line: 5>\u001b[0;34m()\u001b[0m\n\u001b[1;32m      3\u001b[0m \u001b[38;5;28;01mdef\u001b[39;00m \u001b[38;5;21mdivide1\u001b[39m(a,b):\n\u001b[1;32m      4\u001b[0m     \u001b[38;5;28;01mreturn\u001b[39;00m a\u001b[38;5;241m/\u001b[39mb\n\u001b[0;32m----> 5\u001b[0m \u001b[38;5;28mprint\u001b[39m(\u001b[43mdivide1\u001b[49m\u001b[43m(\u001b[49m\u001b[38;5;241;43m10\u001b[39;49m\u001b[43m,\u001b[49m\u001b[38;5;241;43m0\u001b[39;49m\u001b[43m)\u001b[49m)\n",
      "Input \u001b[0;32mIn [11]\u001b[0m, in \u001b[0;36mdivide1\u001b[0;34m(a, b)\u001b[0m\n\u001b[1;32m      3\u001b[0m \u001b[38;5;28;01mdef\u001b[39;00m \u001b[38;5;21mdivide1\u001b[39m(a,b):\n\u001b[0;32m----> 4\u001b[0m     \u001b[38;5;28;01mreturn\u001b[39;00m \u001b[43ma\u001b[49m\u001b[38;5;241;43m/\u001b[39;49m\u001b[43mb\u001b[49m\n",
      "\u001b[0;31mZeroDivisionError\u001b[0m: division by zero"
     ]
    }
   ],
   "source": [
    "#Here is a regular function of divide without exception or decorated,\n",
    "#this does not take into consideration when dividing by 0 \n",
    "def divide1(a,b):\n",
    "    return a/b\n",
    "print(divide1(10,0))"
   ]
  },
  {
   "cell_type": "code",
   "execution_count": 12,
   "id": "436f47c1",
   "metadata": {},
   "outputs": [],
   "source": [
    "#this is the decorated exception that returns None when divides by zero\n",
    "def trapError(f):\n",
    "    def divide2(a,b):\n",
    "        try:\n",
    "            return f(a,b)\n",
    "        except ZeroDivisionError:\n",
    "            return None\n",
    "    return divide2\n"
   ]
  },
  {
   "cell_type": "code",
   "execution_count": 13,
   "id": "fff84d4f",
   "metadata": {},
   "outputs": [
    {
     "name": "stdout",
     "output_type": "stream",
     "text": [
      "None\n"
     ]
    }
   ],
   "source": [
    "#used decorated function, we can avoid errors when dividing by zero\n",
    "@trapError\n",
    "def divide1(a,b):\n",
    "    return a/b\n",
    "print(divide1(5,0))"
   ]
  },
  {
   "cell_type": "markdown",
   "id": "eae4b88a",
   "metadata": {},
   "source": [
    "10. Encode the four-byte UTF-8 representation for the emoji that looks like a dog as a four-byte bytes object, and then decode it into a s00tring object, and print that string object. "
   ]
  },
  {
   "cell_type": "code",
   "execution_count": 14,
   "id": "67f28c5c",
   "metadata": {},
   "outputs": [
    {
     "name": "stdout",
     "output_type": "stream",
     "text": [
      "Dog: 🐕\n",
      "code point for 🐕: 128021\n",
      "128021 is in binary is: 000011111010000010101\n",
      "encoded as utf-8, in binary: 11110000100111111001000010010101\n",
      "the length is: 32\n",
      "these are our bytes as strings in a list: ['11110000', '10011111', '10010000', '10010101']\n",
      "the bytes: b'\\xf0\\x9f\\x90\\x95'\n",
      "decode those bytes to get the original character: 🐕\n"
     ]
    }
   ],
   "source": [
    "#character of the dog\n",
    "ch = '🐕'\n",
    "print(f'Dog: {ch}')\n",
    "\n",
    "#this is the utf-8 encoding of dog\n",
    "code_point = ord(ch)\n",
    "print(f'code point for {ch}: {code_point}')\n",
    "\n",
    "#formatted\n",
    "format_as_padded_bin = '021b'\n",
    "padded_bin = f'{code_point:{format_as_padded_bin}}'\n",
    "print(f'{code_point} is in binary is: {padded_bin}')\n",
    "\n",
    "a, b, c, d = padded_bin[:3], padded_bin[3:9], padded_bin[9:15], padded_bin[15:]\n",
    "encoded = f'11110{a}10{b}10{c}10{d}'\n",
    "print(f'encoded as utf-8, in binary: {encoded}')\n",
    "print(f'the length is: {len(encoded)}')\n",
    "\n",
    "#From utf-8 back to the actual character\n",
    "bytes_as_bin = list(encoded[i: i + 8] for i in range(0, 25, 8))\n",
    "print(f'these are our bytes as strings in a list: {bytes_as_bin}')\n",
    "\n",
    "b = bytes([int(i, 2) for i in bytes_as_bin])\n",
    "print('the bytes: ' + str(b))\n",
    "print('decode those bytes to get the original character:', b.decode(\"utf-8\"))"
   ]
  },
  {
   "cell_type": "code",
   "execution_count": 26,
   "id": "6a444982",
   "metadata": {},
   "outputs": [
    {
     "data": {
      "text/plain": [
       "(2, 5)"
      ]
     },
     "execution_count": 26,
     "metadata": {},
     "output_type": "execute_result"
    }
   ],
   "source": [
    "def partition(A):\n",
    "    pivot = A[len(A)-1]\n",
    "    i = 1\n",
    "    k = 1\n",
    "    for j in range(len(A)-1):\n",
    "        if A[j] < pivot:\n",
    "            k = k + 1\n",
    "            i = i + 1\n",
    "            A[i], A[k] = A[k], A[i]\n",
    "        elif A[j] == pivot:\n",
    "            k = k + 1\n",
    "            A[j], A[k] = A[k], A[j]\n",
    "    A[k], A[len(A)-1] = A[len(A)-1], A[k]\n",
    "    return i, k\n",
    "partition([2,10,4,3,5,4])"
   ]
  },
  {
   "cell_type": "code",
   "execution_count": 31,
   "id": "c501aade",
   "metadata": {},
   "outputs": [
    {
     "data": {
      "text/plain": [
       "(5, 5)"
      ]
     },
     "execution_count": 31,
     "metadata": {},
     "output_type": "execute_result"
    }
   ],
   "source": [
    "def partition(A):\n",
    "    pivot = A[len(A)-1]\n",
    "    i = 0\n",
    "    k = 0\n",
    "    for j in range(len(A)-1):\n",
    "        if A[j] < pivot:\n",
    "            k = k + 1\n",
    "            i = i + 1\n",
    "            A[i-1], A[k] = A[k], A[i-1]\n",
    "        elif A[j] == pivot:\n",
    "            k = k + 1\n",
    "            A[j], A[k] = A[k], A[j]\n",
    "    A[k], A[len(A)-1] = A[len(A)-1], A[k]\n",
    "    return i, k\n",
    "partition([2,10,4,3,5,4])"
   ]
  },
  {
   "cell_type": "code",
   "execution_count": 46,
   "id": "3b0b3ded",
   "metadata": {},
   "outputs": [
    {
     "data": {
      "text/plain": [
       "(5, 1)"
      ]
     },
     "execution_count": 46,
     "metadata": {},
     "output_type": "execute_result"
    }
   ],
   "source": [
    "def partition(A):\n",
    "    pivot = A[len(A)-1]\n",
    "    i = 1\n",
    "    k = 1\n",
    "    for j in range(len(A) - 1):\n",
    "        if A[j] < pivot:\n",
    "            A[i], A[j] = A[j], A[i]\n",
    "            i = i + 1\n",
    "        elif A[j] == pivot:\n",
    "            A[k], A[j] = A[j], A[k]\n",
    "            k = k + 1\n",
    "    A[k], A[len(A)-1] = A[len(A)-1], A[k]\n",
    "    return i-1, k\n",
    "partition([2,10,4,3,5,4])"
   ]
  },
  {
   "cell_type": "code",
   "execution_count": 49,
   "id": "9d57b51b",
   "metadata": {},
   "outputs": [],
   "source": [
    "def partition(A):\n",
    "    n=len(A)\n",
    "    i=1\n",
    "    k=1\n",
    "    for j in range(n-1):\n",
    "        if(A[i]<A[n]):\n",
    "            k=k+1\n",
    "            A[k],A[j] = A[j],A[k]\n",
    "            i=i+1\n",
    "            A[i-1],A[k] = A[k], A[i-1]\n",
    "        elif(A[j]==A[n]):\n",
    "            k=k+1\n",
    "            A[k],A[j] = A[j], A[k]\n",
    "    A[k],A[n] = A[n], A[k]\n",
    "    return i,k"
   ]
  },
  {
   "cell_type": "code",
   "execution_count": 47,
   "id": "38158339",
   "metadata": {},
   "outputs": [
    {
     "name": "stdout",
     "output_type": "stream",
     "text": [
      "None\n"
     ]
    }
   ],
   "source": [
    "def quicksort(A):\n",
    "    if(len(A)<=1):\n",
    "        return\n",
    "    i,k = partition(A)\n",
    "    quicksort(A[:i])\n",
    "    quicksort(A[k:])\n",
    "print(quicksort([2,10,4,3,5,4]))"
   ]
  },
  {
   "cell_type": "code",
   "execution_count": null,
   "id": "90c2e3cb",
   "metadata": {},
   "outputs": [],
   "source": []
  }
 ],
 "metadata": {
  "kernelspec": {
   "display_name": "Python 3 (ipykernel)",
   "language": "python",
   "name": "python3"
  },
  "language_info": {
   "codemirror_mode": {
    "name": "ipython",
    "version": 3
   },
   "file_extension": ".py",
   "mimetype": "text/x-python",
   "name": "python",
   "nbconvert_exporter": "python",
   "pygments_lexer": "ipython3",
   "version": "3.9.12"
  }
 },
 "nbformat": 4,
 "nbformat_minor": 5
}
