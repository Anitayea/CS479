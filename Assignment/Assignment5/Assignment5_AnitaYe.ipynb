{
 "cells": [
  {
   "cell_type": "code",
   "execution_count": 1,
   "id": "a3b9b56e",
   "metadata": {},
   "outputs": [],
   "source": [
    "import numpy as np\n",
    "import pandas as pd\n",
    "import warnings\n",
    "with warnings.catch_warnings():\n",
    "    warnings.filterwarnings(\"ignore\", category=DeprecationWarning)\n",
    "    import statsmodels.api as sm\n",
    "from sklearn.linear_model import LinearRegression\n",
    "import matplotlib.pyplot as plt"
   ]
  },
  {
   "cell_type": "code",
   "execution_count": 2,
   "id": "27c8846a",
   "metadata": {},
   "outputs": [
    {
     "data": {
      "text/html": [
       "<div>\n",
       "<style scoped>\n",
       "    .dataframe tbody tr th:only-of-type {\n",
       "        vertical-align: middle;\n",
       "    }\n",
       "\n",
       "    .dataframe tbody tr th {\n",
       "        vertical-align: top;\n",
       "    }\n",
       "\n",
       "    .dataframe thead th {\n",
       "        text-align: right;\n",
       "    }\n",
       "</style>\n",
       "<table border=\"1\" class=\"dataframe\">\n",
       "  <thead>\n",
       "    <tr style=\"text-align: right;\">\n",
       "      <th></th>\n",
       "      <th>Education</th>\n",
       "      <th>Income</th>\n",
       "    </tr>\n",
       "  </thead>\n",
       "  <tbody>\n",
       "    <tr>\n",
       "      <th>0</th>\n",
       "      <td>10.000000</td>\n",
       "      <td>26.658839</td>\n",
       "    </tr>\n",
       "    <tr>\n",
       "      <th>1</th>\n",
       "      <td>10.401338</td>\n",
       "      <td>27.306435</td>\n",
       "    </tr>\n",
       "    <tr>\n",
       "      <th>2</th>\n",
       "      <td>10.842809</td>\n",
       "      <td>22.132410</td>\n",
       "    </tr>\n",
       "    <tr>\n",
       "      <th>3</th>\n",
       "      <td>11.244147</td>\n",
       "      <td>21.169840</td>\n",
       "    </tr>\n",
       "    <tr>\n",
       "      <th>4</th>\n",
       "      <td>11.645485</td>\n",
       "      <td>15.192634</td>\n",
       "    </tr>\n",
       "  </tbody>\n",
       "</table>\n",
       "</div>"
      ],
      "text/plain": [
       "   Education     Income\n",
       "0  10.000000  26.658839\n",
       "1  10.401338  27.306435\n",
       "2  10.842809  22.132410\n",
       "3  11.244147  21.169840\n",
       "4  11.645485  15.192634"
      ]
     },
     "execution_count": 2,
     "metadata": {},
     "output_type": "execute_result"
    }
   ],
   "source": [
    "df = pd.read_csv('income.csv')\n",
    "df.head()"
   ]
  },
  {
   "cell_type": "markdown",
   "id": "8b5f0ba8",
   "metadata": {},
   "source": [
    "1. The mean, variance, and standard deviation of the education column\n",
    "\n",
    "The mean, variance, and standard deviation of the income column\n",
    "\n",
    "The covariance of the education and the income\n",
    "\n",
    "The correlation of the education and the income\n",
    "You can use the pandas mean, var, std, cov, and corr methods to do this."
   ]
  },
  {
   "cell_type": "code",
   "execution_count": 3,
   "id": "fdf81044",
   "metadata": {},
   "outputs": [
    {
     "name": "stdout",
     "output_type": "stream",
     "text": [
      "mean of education: 16.0\n",
      "variance of education: 13.27119615477568\n",
      "std of education: 3.642965296949132\n"
     ]
    }
   ],
   "source": [
    "print('mean of education: ' + str(df['Education'].mean()) + '\\n' +\n",
    "     'variance of education: ' + str(df['Education'].var()) + '\\n' +\n",
    "     'std of education: '+ str(df['Education'].std()))"
   ]
  },
  {
   "cell_type": "code",
   "execution_count": 4,
   "id": "b44e09d8",
   "metadata": {},
   "outputs": [
    {
     "name": "stdout",
     "output_type": "stream",
     "text": [
      "mean of income: 50.145469306666676\n",
      "variance of income: 446.9652465894925\n",
      "std of income: 21.14155260593442\n"
     ]
    }
   ],
   "source": [
    "print('mean of income: ' + str(df['Income'].mean()) + '\\n' +\n",
    "     'variance of income: ' + str(df['Income'].var()) + '\\n' +\n",
    "     'std of income: '+ str(df['Income'].std()))"
   ]
  },
  {
   "cell_type": "code",
   "execution_count": 5,
   "id": "c2190afe",
   "metadata": {},
   "outputs": [
    {
     "name": "stdout",
     "output_type": "stream",
     "text": [
      "covariance:\n"
     ]
    },
    {
     "data": {
      "text/html": [
       "<div>\n",
       "<style scoped>\n",
       "    .dataframe tbody tr th:only-of-type {\n",
       "        vertical-align: middle;\n",
       "    }\n",
       "\n",
       "    .dataframe tbody tr th {\n",
       "        vertical-align: top;\n",
       "    }\n",
       "\n",
       "    .dataframe thead th {\n",
       "        text-align: right;\n",
       "    }\n",
       "</style>\n",
       "<table border=\"1\" class=\"dataframe\">\n",
       "  <thead>\n",
       "    <tr style=\"text-align: right;\">\n",
       "      <th></th>\n",
       "      <th>Education</th>\n",
       "      <th>Income</th>\n",
       "    </tr>\n",
       "  </thead>\n",
       "  <tbody>\n",
       "    <tr>\n",
       "      <th>Education</th>\n",
       "      <td>13.271196</td>\n",
       "      <td>74.311836</td>\n",
       "    </tr>\n",
       "    <tr>\n",
       "      <th>Income</th>\n",
       "      <td>74.311836</td>\n",
       "      <td>446.965247</td>\n",
       "    </tr>\n",
       "  </tbody>\n",
       "</table>\n",
       "</div>"
      ],
      "text/plain": [
       "           Education      Income\n",
       "Education  13.271196   74.311836\n",
       "Income     74.311836  446.965247"
      ]
     },
     "execution_count": 5,
     "metadata": {},
     "output_type": "execute_result"
    }
   ],
   "source": [
    "print('covariance:')\n",
    "df.cov()"
   ]
  },
  {
   "cell_type": "code",
   "execution_count": 6,
   "id": "8d147879",
   "metadata": {},
   "outputs": [
    {
     "name": "stdout",
     "output_type": "stream",
     "text": [
      "correlation:\n"
     ]
    },
    {
     "data": {
      "text/html": [
       "<div>\n",
       "<style scoped>\n",
       "    .dataframe tbody tr th:only-of-type {\n",
       "        vertical-align: middle;\n",
       "    }\n",
       "\n",
       "    .dataframe tbody tr th {\n",
       "        vertical-align: top;\n",
       "    }\n",
       "\n",
       "    .dataframe thead th {\n",
       "        text-align: right;\n",
       "    }\n",
       "</style>\n",
       "<table border=\"1\" class=\"dataframe\">\n",
       "  <thead>\n",
       "    <tr style=\"text-align: right;\">\n",
       "      <th></th>\n",
       "      <th>Education</th>\n",
       "      <th>Income</th>\n",
       "    </tr>\n",
       "  </thead>\n",
       "  <tbody>\n",
       "    <tr>\n",
       "      <th>Education</th>\n",
       "      <td>1.000000</td>\n",
       "      <td>0.964864</td>\n",
       "    </tr>\n",
       "    <tr>\n",
       "      <th>Income</th>\n",
       "      <td>0.964864</td>\n",
       "      <td>1.000000</td>\n",
       "    </tr>\n",
       "  </tbody>\n",
       "</table>\n",
       "</div>"
      ],
      "text/plain": [
       "           Education    Income\n",
       "Education   1.000000  0.964864\n",
       "Income      0.964864  1.000000"
      ]
     },
     "execution_count": 6,
     "metadata": {},
     "output_type": "execute_result"
    }
   ],
   "source": [
    "print('correlation:')\n",
    "df.corr()"
   ]
  },
  {
   "cell_type": "markdown",
   "id": "3087d680",
   "metadata": {},
   "source": [
    "2. Using statsmodels (code similar to that given in lecture), run a regression that uses the education of a person to predict their income. What is your beta (slope of the regression line)? Your r squared? The 95% confidence interval of the beta? Are you confident that beta is greater than zero?"
   ]
  },
  {
   "cell_type": "code",
   "execution_count": 7,
   "id": "b13a6a66",
   "metadata": {},
   "outputs": [
    {
     "name": "stdout",
     "output_type": "stream",
     "text": [
      "                            OLS Regression Results                            \n",
      "==============================================================================\n",
      "Dep. Variable:                 Income   R-squared:                       0.931\n",
      "Model:                            OLS   Adj. R-squared:                  0.928\n",
      "Method:                 Least Squares   F-statistic:                     377.6\n",
      "Date:                Fri, 05 May 2023   Prob (F-statistic):           8.63e-18\n",
      "Time:                        23:28:05   Log-Likelihood:                -93.500\n",
      "No. Observations:                  30   AIC:                             191.0\n",
      "Df Residuals:                      28   BIC:                             193.8\n",
      "Df Model:                           1                                         \n",
      "Covariance Type:            nonrobust                                         \n",
      "==============================================================================\n",
      "                 coef    std err          t      P>|t|      [0.025      0.975]\n",
      "------------------------------------------------------------------------------\n",
      "Education      5.5995      0.288     19.431      0.000       5.009       6.190\n",
      "const        -39.4463      4.725     -8.349      0.000     -49.125     -29.768\n",
      "==============================================================================\n",
      "Omnibus:                        1.166   Durbin-Watson:                   1.163\n",
      "Prob(Omnibus):                  0.558   Jarque-Bera (JB):                0.774\n",
      "Skew:                          -0.391   Prob(JB):                        0.679\n",
      "Kurtosis:                       2.916   Cond. No.                         75.3\n",
      "==============================================================================\n",
      "\n",
      "Notes:\n",
      "[1] Standard Errors assume that the covariance matrix of the errors is correctly specified.\n"
     ]
    }
   ],
   "source": [
    "x1 = sm.add_constant(df['Education'], prepend=False)\n",
    "mod = sm.OLS(df['Income'], x1)\n",
    "res = mod.fit()\n",
    "print(res.summary())"
   ]
  },
  {
   "cell_type": "markdown",
   "id": "78ae2e7c",
   "metadata": {},
   "source": [
    "### Beta is 5.5995, and r-squared is 0.931, 95% conidence interval is between 5.009 and 6.190. I am confident that beta is greater than zero, because P>|t| is almost 0, which means that we can reject the null hypothesis"
   ]
  },
  {
   "cell_type": "markdown",
   "id": "b04813b4",
   "metadata": {},
   "source": [
    "3. Using the regression model you created for the last question, calculate the predicted income and add it as a column to your data frame. Then add the residual, which is the difference between the actual and predicted values, to your dataframe as well. \n",
    "Compute and print the mean of your predicted income. It will be the same as another mean that you computed before. What is it the same as?\n",
    "What is the mean of your residuals? Calculate and print it."
   ]
  },
  {
   "cell_type": "code",
   "execution_count": 8,
   "id": "dd0b781a",
   "metadata": {},
   "outputs": [
    {
     "data": {
      "text/html": [
       "<div>\n",
       "<style scoped>\n",
       "    .dataframe tbody tr th:only-of-type {\n",
       "        vertical-align: middle;\n",
       "    }\n",
       "\n",
       "    .dataframe tbody tr th {\n",
       "        vertical-align: top;\n",
       "    }\n",
       "\n",
       "    .dataframe thead th {\n",
       "        text-align: right;\n",
       "    }\n",
       "</style>\n",
       "<table border=\"1\" class=\"dataframe\">\n",
       "  <thead>\n",
       "    <tr style=\"text-align: right;\">\n",
       "      <th></th>\n",
       "      <th>Education</th>\n",
       "      <th>Income</th>\n",
       "      <th>predicted income</th>\n",
       "    </tr>\n",
       "  </thead>\n",
       "  <tbody>\n",
       "    <tr>\n",
       "      <th>0</th>\n",
       "      <td>10.000000</td>\n",
       "      <td>26.658839</td>\n",
       "      <td>16.548572</td>\n",
       "    </tr>\n",
       "    <tr>\n",
       "      <th>1</th>\n",
       "      <td>10.401338</td>\n",
       "      <td>27.306435</td>\n",
       "      <td>18.795856</td>\n",
       "    </tr>\n",
       "    <tr>\n",
       "      <th>2</th>\n",
       "      <td>10.842809</td>\n",
       "      <td>22.132410</td>\n",
       "      <td>21.267869</td>\n",
       "    </tr>\n",
       "    <tr>\n",
       "      <th>3</th>\n",
       "      <td>11.244147</td>\n",
       "      <td>21.169840</td>\n",
       "      <td>23.515153</td>\n",
       "    </tr>\n",
       "    <tr>\n",
       "      <th>4</th>\n",
       "      <td>11.645485</td>\n",
       "      <td>15.192634</td>\n",
       "      <td>25.762437</td>\n",
       "    </tr>\n",
       "  </tbody>\n",
       "</table>\n",
       "</div>"
      ],
      "text/plain": [
       "   Education     Income  predicted income\n",
       "0  10.000000  26.658839         16.548572\n",
       "1  10.401338  27.306435         18.795856\n",
       "2  10.842809  22.132410         21.267869\n",
       "3  11.244147  21.169840         23.515153\n",
       "4  11.645485  15.192634         25.762437"
      ]
     },
     "execution_count": 8,
     "metadata": {},
     "output_type": "execute_result"
    }
   ],
   "source": [
    "#5.5995*df['Education']-39.4463\n",
    "df['predicted income'] = res.predict(x1)\n",
    "df.head()"
   ]
  },
  {
   "cell_type": "code",
   "execution_count": 9,
   "id": "fbe3d948",
   "metadata": {},
   "outputs": [
    {
     "data": {
      "text/html": [
       "<div>\n",
       "<style scoped>\n",
       "    .dataframe tbody tr th:only-of-type {\n",
       "        vertical-align: middle;\n",
       "    }\n",
       "\n",
       "    .dataframe tbody tr th {\n",
       "        vertical-align: top;\n",
       "    }\n",
       "\n",
       "    .dataframe thead th {\n",
       "        text-align: right;\n",
       "    }\n",
       "</style>\n",
       "<table border=\"1\" class=\"dataframe\">\n",
       "  <thead>\n",
       "    <tr style=\"text-align: right;\">\n",
       "      <th></th>\n",
       "      <th>Education</th>\n",
       "      <th>Income</th>\n",
       "      <th>predicted income</th>\n",
       "      <th>residual</th>\n",
       "    </tr>\n",
       "  </thead>\n",
       "  <tbody>\n",
       "    <tr>\n",
       "      <th>0</th>\n",
       "      <td>10.000000</td>\n",
       "      <td>26.658839</td>\n",
       "      <td>16.548572</td>\n",
       "      <td>10.110267</td>\n",
       "    </tr>\n",
       "    <tr>\n",
       "      <th>1</th>\n",
       "      <td>10.401338</td>\n",
       "      <td>27.306435</td>\n",
       "      <td>18.795856</td>\n",
       "      <td>8.510579</td>\n",
       "    </tr>\n",
       "    <tr>\n",
       "      <th>2</th>\n",
       "      <td>10.842809</td>\n",
       "      <td>22.132410</td>\n",
       "      <td>21.267869</td>\n",
       "      <td>0.864542</td>\n",
       "    </tr>\n",
       "    <tr>\n",
       "      <th>3</th>\n",
       "      <td>11.244147</td>\n",
       "      <td>21.169840</td>\n",
       "      <td>23.515153</td>\n",
       "      <td>-2.345312</td>\n",
       "    </tr>\n",
       "    <tr>\n",
       "      <th>4</th>\n",
       "      <td>11.645485</td>\n",
       "      <td>15.192634</td>\n",
       "      <td>25.762437</td>\n",
       "      <td>-10.569803</td>\n",
       "    </tr>\n",
       "  </tbody>\n",
       "</table>\n",
       "</div>"
      ],
      "text/plain": [
       "   Education     Income  predicted income   residual\n",
       "0  10.000000  26.658839         16.548572  10.110267\n",
       "1  10.401338  27.306435         18.795856   8.510579\n",
       "2  10.842809  22.132410         21.267869   0.864542\n",
       "3  11.244147  21.169840         23.515153  -2.345312\n",
       "4  11.645485  15.192634         25.762437 -10.569803"
      ]
     },
     "execution_count": 9,
     "metadata": {},
     "output_type": "execute_result"
    }
   ],
   "source": [
    "df['residual'] = res.resid\n",
    "df.head()"
   ]
  },
  {
   "cell_type": "code",
   "execution_count": 10,
   "id": "e0cddbf0",
   "metadata": {},
   "outputs": [
    {
     "data": {
      "text/plain": [
       "50.145469306666655"
      ]
     },
     "execution_count": 10,
     "metadata": {},
     "output_type": "execute_result"
    }
   ],
   "source": [
    "df['predicted income'].mean()"
   ]
  },
  {
   "cell_type": "code",
   "execution_count": 11,
   "id": "ee76018f",
   "metadata": {},
   "outputs": [
    {
     "data": {
      "text/plain": [
       "50.145469306666676"
      ]
     },
     "execution_count": 11,
     "metadata": {},
     "output_type": "execute_result"
    }
   ],
   "source": [
    "df['Income'].mean()"
   ]
  },
  {
   "cell_type": "markdown",
   "id": "a1331c33",
   "metadata": {},
   "source": [
    "### We can see that the mean of the predicted income is the same as the mean of the original income, 50.145"
   ]
  },
  {
   "cell_type": "code",
   "execution_count": 12,
   "id": "e5a00d0e",
   "metadata": {},
   "outputs": [
    {
     "name": "stdout",
     "output_type": "stream",
     "text": [
      "mean of residual:2.8184861851817308e-14\n"
     ]
    }
   ],
   "source": [
    "print('mean of residual:' + str(df['residual'].mean()))"
   ]
  },
  {
   "cell_type": "markdown",
   "id": "aa10947d",
   "metadata": {},
   "source": [
    "4. Using your new column of residuals, calculate and print out the RSS (residual sum of squares). This is simply the sum of the squares of the residuals.\n",
    "Calculate and print out the TSS (total sum of squares) as well. This is the sum of the squared differences of the outcome variable from its mean.\n",
    "Then calculate and print the r squared as 1-(RSS/TSS). You should get the same value as was output by your regression."
   ]
  },
  {
   "cell_type": "code",
   "execution_count": 13,
   "id": "8265a6cd",
   "metadata": {},
   "outputs": [
    {
     "name": "stdout",
     "output_type": "stream",
     "text": [
      "rss: 894.864485408394\n"
     ]
    }
   ],
   "source": [
    "rss = res.ssr\n",
    "print('rss: '+ str(rss))"
   ]
  },
  {
   "cell_type": "code",
   "execution_count": 14,
   "id": "cc4d0cff",
   "metadata": {},
   "outputs": [
    {
     "name": "stdout",
     "output_type": "stream",
     "text": [
      "tss: 12961.992151095286\n"
     ]
    }
   ],
   "source": [
    "tss = np.sum((df['Income']-df['Income'].mean()) ** 2)\n",
    "print('tss: '+ str(tss))"
   ]
  },
  {
   "cell_type": "code",
   "execution_count": 15,
   "id": "823146ac",
   "metadata": {},
   "outputs": [
    {
     "name": "stdout",
     "output_type": "stream",
     "text": [
      "r-squared by calculation: 0.9309624265331176\n"
     ]
    }
   ],
   "source": [
    "rsq = 1-(rss/tss)\n",
    "print('r-squared by calculation: '+ str(rsq))"
   ]
  },
  {
   "cell_type": "code",
   "execution_count": 16,
   "id": "240db3db",
   "metadata": {},
   "outputs": [
    {
     "name": "stdout",
     "output_type": "stream",
     "text": [
      "r-squared by model: 0.9309624265331176\n"
     ]
    }
   ],
   "source": [
    "print('r-squared by model: '+ str(res.rsquared))"
   ]
  },
  {
   "cell_type": "markdown",
   "id": "54adf17d",
   "metadata": {},
   "source": [
    "### We can see that the Rsquare calculated manually is the same as it is in the model"
   ]
  },
  {
   "cell_type": "markdown",
   "id": "548a6a0e",
   "metadata": {},
   "source": [
    "5. Calculate and print the TSS divided by n-1, where n is the number of observations (which is the number of rows in the original dataframe). This should be the same as one of the values you got earlier. Which one is it the same as?"
   ]
  },
  {
   "cell_type": "code",
   "execution_count": 17,
   "id": "432cbfc0",
   "metadata": {},
   "outputs": [
    {
     "name": "stdout",
     "output_type": "stream",
     "text": [
      "tss divided by n-1: 446.9652465894926\n"
     ]
    }
   ],
   "source": [
    "print('tss divided by n-1: '+ str(tss/(len(df)-1)))"
   ]
  },
  {
   "cell_type": "code",
   "execution_count": 18,
   "id": "148e8545",
   "metadata": {},
   "outputs": [
    {
     "data": {
      "text/html": [
       "<div>\n",
       "<style scoped>\n",
       "    .dataframe tbody tr th:only-of-type {\n",
       "        vertical-align: middle;\n",
       "    }\n",
       "\n",
       "    .dataframe tbody tr th {\n",
       "        vertical-align: top;\n",
       "    }\n",
       "\n",
       "    .dataframe thead th {\n",
       "        text-align: right;\n",
       "    }\n",
       "</style>\n",
       "<table border=\"1\" class=\"dataframe\">\n",
       "  <thead>\n",
       "    <tr style=\"text-align: right;\">\n",
       "      <th></th>\n",
       "      <th>Education</th>\n",
       "      <th>Income</th>\n",
       "    </tr>\n",
       "  </thead>\n",
       "  <tbody>\n",
       "    <tr>\n",
       "      <th>Education</th>\n",
       "      <td>13.271196</td>\n",
       "      <td>74.311836</td>\n",
       "    </tr>\n",
       "    <tr>\n",
       "      <th>Income</th>\n",
       "      <td>74.311836</td>\n",
       "      <td>446.965247</td>\n",
       "    </tr>\n",
       "  </tbody>\n",
       "</table>\n",
       "</div>"
      ],
      "text/plain": [
       "           Education      Income\n",
       "Education  13.271196   74.311836\n",
       "Income     74.311836  446.965247"
      ]
     },
     "execution_count": 18,
     "metadata": {},
     "output_type": "execute_result"
    }
   ],
   "source": [
    "df[['Education','Income']].cov()#.iloc[1,1]"
   ]
  },
  {
   "cell_type": "markdown",
   "id": "7926fa81",
   "metadata": {},
   "source": [
    "### We can see that it is the same as the variance of Income and itself"
   ]
  },
  {
   "cell_type": "markdown",
   "id": "9eb92b0f",
   "metadata": {},
   "source": [
    "6. Use the covariance of education and income and the variance of education to calculate and print beta. You should get the same value as you saw in your regression output. "
   ]
  },
  {
   "cell_type": "code",
   "execution_count": 19,
   "id": "bb3281fb",
   "metadata": {},
   "outputs": [
    {
     "data": {
      "text/html": [
       "<div>\n",
       "<style scoped>\n",
       "    .dataframe tbody tr th:only-of-type {\n",
       "        vertical-align: middle;\n",
       "    }\n",
       "\n",
       "    .dataframe tbody tr th {\n",
       "        vertical-align: top;\n",
       "    }\n",
       "\n",
       "    .dataframe thead th {\n",
       "        text-align: right;\n",
       "    }\n",
       "</style>\n",
       "<table border=\"1\" class=\"dataframe\">\n",
       "  <thead>\n",
       "    <tr style=\"text-align: right;\">\n",
       "      <th></th>\n",
       "      <th>Education</th>\n",
       "      <th>Income</th>\n",
       "    </tr>\n",
       "  </thead>\n",
       "  <tbody>\n",
       "    <tr>\n",
       "      <th>Education</th>\n",
       "      <td>13.271196</td>\n",
       "      <td>74.311836</td>\n",
       "    </tr>\n",
       "    <tr>\n",
       "      <th>Income</th>\n",
       "      <td>74.311836</td>\n",
       "      <td>446.965247</td>\n",
       "    </tr>\n",
       "  </tbody>\n",
       "</table>\n",
       "</div>"
      ],
      "text/plain": [
       "           Education      Income\n",
       "Education  13.271196   74.311836\n",
       "Income     74.311836  446.965247"
      ]
     },
     "execution_count": 19,
     "metadata": {},
     "output_type": "execute_result"
    }
   ],
   "source": [
    "df[['Education','Income']].cov()#.iloc[0][1]"
   ]
  },
  {
   "cell_type": "code",
   "execution_count": 20,
   "id": "85545cb4",
   "metadata": {},
   "outputs": [
    {
     "data": {
      "text/plain": [
       "Education            13.271196\n",
       "Income              446.965247\n",
       "predicted income    416.107851\n",
       "residual             30.857396\n",
       "dtype: float64"
      ]
     },
     "execution_count": 20,
     "metadata": {},
     "output_type": "execute_result"
    }
   ],
   "source": [
    "df.var()"
   ]
  },
  {
   "cell_type": "code",
   "execution_count": 21,
   "id": "cbf86a6b",
   "metadata": {},
   "outputs": [
    {
     "name": "stdout",
     "output_type": "stream",
     "text": [
      "beta: 5.599482872928263\n"
     ]
    }
   ],
   "source": [
    "#beta = 74.311836/13.271196\n",
    "beta = df[['Education','Income']].cov().iloc[0][1] / df.var()[0]\n",
    "print('beta: ' + str(beta))"
   ]
  },
  {
   "cell_type": "markdown",
   "id": "6776e18c",
   "metadata": {},
   "source": [
    "### We can see that this is the same as the coefficient in the ols model we saw before"
   ]
  },
  {
   "cell_type": "markdown",
   "id": "6fdf39d4",
   "metadata": {},
   "source": [
    "7. Calculate and print alpha (the intercept of the regression line) as the mean of income minus the following quantity: beta times the mean of education. Use the beta you calculated for the previous question. You should get the same value as you saw in your regression output.\n",
    "\n",
    "What does this model imply that your income will be if you have zero education? Does that make sense?"
   ]
  },
  {
   "cell_type": "code",
   "execution_count": 22,
   "id": "caf75ac7",
   "metadata": {},
   "outputs": [
    {
     "name": "stdout",
     "output_type": "stream",
     "text": [
      "alpha: -39.44625666018553\n"
     ]
    }
   ],
   "source": [
    "alpha = df['Income'].mean()-(beta*df['Education'].mean())\n",
    "print('alpha: '+ str(alpha))"
   ]
  },
  {
   "cell_type": "markdown",
   "id": "94480ca5",
   "metadata": {},
   "source": [
    "### We can see that it is the same as the regression output.  This result implies that at Eduction = 0, you will get -39 income, which obviously does not make sense having negative income. "
   ]
  },
  {
   "cell_type": "markdown",
   "id": "c91bfc07",
   "metadata": {},
   "source": [
    "8. Create two new standardized columns, education_std and income_std from your education and income columns.\n",
    "You can do this by first subtracting the mean from each value in each column, and then dividing each value by the standard deviation. This will create new standardized variables with mean equal to zero and standard deviation equal to one. After you do this, double check that the two columns actually have mean zero and standard deviation one by computing and printing these values.\n",
    "Calculate and print is the correlation between each standardized column and its unstandardized version."
   ]
  },
  {
   "cell_type": "code",
   "execution_count": 23,
   "id": "1f24f77c",
   "metadata": {},
   "outputs": [
    {
     "data": {
      "text/html": [
       "<div>\n",
       "<style scoped>\n",
       "    .dataframe tbody tr th:only-of-type {\n",
       "        vertical-align: middle;\n",
       "    }\n",
       "\n",
       "    .dataframe tbody tr th {\n",
       "        vertical-align: top;\n",
       "    }\n",
       "\n",
       "    .dataframe thead th {\n",
       "        text-align: right;\n",
       "    }\n",
       "</style>\n",
       "<table border=\"1\" class=\"dataframe\">\n",
       "  <thead>\n",
       "    <tr style=\"text-align: right;\">\n",
       "      <th></th>\n",
       "      <th>Education</th>\n",
       "      <th>Income</th>\n",
       "      <th>predicted income</th>\n",
       "      <th>residual</th>\n",
       "      <th>education_std</th>\n",
       "      <th>income_std</th>\n",
       "    </tr>\n",
       "  </thead>\n",
       "  <tbody>\n",
       "    <tr>\n",
       "      <th>0</th>\n",
       "      <td>10.000000</td>\n",
       "      <td>26.658839</td>\n",
       "      <td>16.548572</td>\n",
       "      <td>10.110267</td>\n",
       "      <td>-1.647010</td>\n",
       "      <td>-1.110923</td>\n",
       "    </tr>\n",
       "    <tr>\n",
       "      <th>1</th>\n",
       "      <td>10.401338</td>\n",
       "      <td>27.306435</td>\n",
       "      <td>18.795856</td>\n",
       "      <td>8.510579</td>\n",
       "      <td>-1.536842</td>\n",
       "      <td>-1.080291</td>\n",
       "    </tr>\n",
       "    <tr>\n",
       "      <th>2</th>\n",
       "      <td>10.842809</td>\n",
       "      <td>22.132410</td>\n",
       "      <td>21.267869</td>\n",
       "      <td>0.864542</td>\n",
       "      <td>-1.415657</td>\n",
       "      <td>-1.325024</td>\n",
       "    </tr>\n",
       "    <tr>\n",
       "      <th>3</th>\n",
       "      <td>11.244147</td>\n",
       "      <td>21.169840</td>\n",
       "      <td>23.515153</td>\n",
       "      <td>-2.345312</td>\n",
       "      <td>-1.305489</td>\n",
       "      <td>-1.370553</td>\n",
       "    </tr>\n",
       "    <tr>\n",
       "      <th>4</th>\n",
       "      <td>11.645485</td>\n",
       "      <td>15.192634</td>\n",
       "      <td>25.762437</td>\n",
       "      <td>-10.569803</td>\n",
       "      <td>-1.195322</td>\n",
       "      <td>-1.653277</td>\n",
       "    </tr>\n",
       "  </tbody>\n",
       "</table>\n",
       "</div>"
      ],
      "text/plain": [
       "   Education     Income  predicted income   residual  education_std  \\\n",
       "0  10.000000  26.658839         16.548572  10.110267      -1.647010   \n",
       "1  10.401338  27.306435         18.795856   8.510579      -1.536842   \n",
       "2  10.842809  22.132410         21.267869   0.864542      -1.415657   \n",
       "3  11.244147  21.169840         23.515153  -2.345312      -1.305489   \n",
       "4  11.645485  15.192634         25.762437 -10.569803      -1.195322   \n",
       "\n",
       "   income_std  \n",
       "0   -1.110923  \n",
       "1   -1.080291  \n",
       "2   -1.325024  \n",
       "3   -1.370553  \n",
       "4   -1.653277  "
      ]
     },
     "execution_count": 23,
     "metadata": {},
     "output_type": "execute_result"
    }
   ],
   "source": [
    "df['education_std'] = (df['Education']-df['Education'].mean())/df['Education'].std()\n",
    "df['income_std'] = (df['Income']-df['Income'].mean())/df['Income'].std()\n",
    "df.head()"
   ]
  },
  {
   "cell_type": "code",
   "execution_count": 24,
   "id": "7947aba6",
   "metadata": {},
   "outputs": [
    {
     "name": "stdout",
     "output_type": "stream",
     "text": [
      "education mean: 0.0\n",
      "education std: 1.0\n"
     ]
    }
   ],
   "source": [
    "print('education mean: '+ str(df['education_std'].mean()))\n",
    "print('education std: '+ str(df['education_std'].std()))"
   ]
  },
  {
   "cell_type": "code",
   "execution_count": 25,
   "id": "e4f41c94",
   "metadata": {},
   "outputs": [
    {
     "name": "stdout",
     "output_type": "stream",
     "text": [
      "income mean: -0.0\n",
      "income std: 1.0\n"
     ]
    }
   ],
   "source": [
    "print('income mean: '+ str(round(df['income_std'].mean(),2)))\n",
    "print('income std: '+ str(df['income_std'].std()))"
   ]
  },
  {
   "cell_type": "code",
   "execution_count": 26,
   "id": "3e5532d2",
   "metadata": {},
   "outputs": [
    {
     "data": {
      "text/html": [
       "<div>\n",
       "<style scoped>\n",
       "    .dataframe tbody tr th:only-of-type {\n",
       "        vertical-align: middle;\n",
       "    }\n",
       "\n",
       "    .dataframe tbody tr th {\n",
       "        vertical-align: top;\n",
       "    }\n",
       "\n",
       "    .dataframe thead th {\n",
       "        text-align: right;\n",
       "    }\n",
       "</style>\n",
       "<table border=\"1\" class=\"dataframe\">\n",
       "  <thead>\n",
       "    <tr style=\"text-align: right;\">\n",
       "      <th></th>\n",
       "      <th>education_std</th>\n",
       "      <th>Education</th>\n",
       "    </tr>\n",
       "  </thead>\n",
       "  <tbody>\n",
       "    <tr>\n",
       "      <th>education_std</th>\n",
       "      <td>1.0</td>\n",
       "      <td>1.0</td>\n",
       "    </tr>\n",
       "    <tr>\n",
       "      <th>Education</th>\n",
       "      <td>1.0</td>\n",
       "      <td>1.0</td>\n",
       "    </tr>\n",
       "  </tbody>\n",
       "</table>\n",
       "</div>"
      ],
      "text/plain": [
       "               education_std  Education\n",
       "education_std            1.0        1.0\n",
       "Education                1.0        1.0"
      ]
     },
     "execution_count": 26,
     "metadata": {},
     "output_type": "execute_result"
    }
   ],
   "source": [
    "df[['education_std','Education']].corr()"
   ]
  },
  {
   "cell_type": "code",
   "execution_count": 27,
   "id": "b0066e90",
   "metadata": {},
   "outputs": [
    {
     "data": {
      "text/html": [
       "<div>\n",
       "<style scoped>\n",
       "    .dataframe tbody tr th:only-of-type {\n",
       "        vertical-align: middle;\n",
       "    }\n",
       "\n",
       "    .dataframe tbody tr th {\n",
       "        vertical-align: top;\n",
       "    }\n",
       "\n",
       "    .dataframe thead th {\n",
       "        text-align: right;\n",
       "    }\n",
       "</style>\n",
       "<table border=\"1\" class=\"dataframe\">\n",
       "  <thead>\n",
       "    <tr style=\"text-align: right;\">\n",
       "      <th></th>\n",
       "      <th>Income</th>\n",
       "      <th>income_std</th>\n",
       "    </tr>\n",
       "  </thead>\n",
       "  <tbody>\n",
       "    <tr>\n",
       "      <th>Income</th>\n",
       "      <td>1.0</td>\n",
       "      <td>1.0</td>\n",
       "    </tr>\n",
       "    <tr>\n",
       "      <th>income_std</th>\n",
       "      <td>1.0</td>\n",
       "      <td>1.0</td>\n",
       "    </tr>\n",
       "  </tbody>\n",
       "</table>\n",
       "</div>"
      ],
      "text/plain": [
       "            Income  income_std\n",
       "Income         1.0         1.0\n",
       "income_std     1.0         1.0"
      ]
     },
     "execution_count": 27,
     "metadata": {},
     "output_type": "execute_result"
    }
   ],
   "source": [
    "df[['Income','income_std']].corr()"
   ]
  },
  {
   "cell_type": "markdown",
   "id": "0291af58",
   "metadata": {},
   "source": [
    "9. Rerun the regression using the standardized versions of the two variables. The r squared should be the same, but the beta will be different. What is it? The beta will be the same as another value you calculated earlier in this assignment. What is it the same as?\n",
    "Note that alpha should now be zero."
   ]
  },
  {
   "cell_type": "code",
   "execution_count": 28,
   "id": "0e2af5f1",
   "metadata": {},
   "outputs": [
    {
     "name": "stdout",
     "output_type": "stream",
     "text": [
      "                            OLS Regression Results                            \n",
      "==============================================================================\n",
      "Dep. Variable:             income_std   R-squared:                       0.931\n",
      "Model:                            OLS   Adj. R-squared:                  0.928\n",
      "Method:                 Least Squares   F-statistic:                     377.6\n",
      "Date:                Fri, 05 May 2023   Prob (F-statistic):           8.63e-18\n",
      "Time:                        23:28:05   Log-Likelihood:                -1.9631\n",
      "No. Observations:                  30   AIC:                             7.926\n",
      "Df Residuals:                      28   BIC:                             10.73\n",
      "Df Model:                           1                                         \n",
      "Covariance Type:            nonrobust                                         \n",
      "=================================================================================\n",
      "                    coef    std err          t      P>|t|      [0.025      0.975]\n",
      "---------------------------------------------------------------------------------\n",
      "education_std     0.9649      0.050     19.431      0.000       0.863       1.067\n",
      "const         -3.816e-16      0.049  -7.82e-15      1.000      -0.100       0.100\n",
      "==============================================================================\n",
      "Omnibus:                        1.166   Durbin-Watson:                   1.163\n",
      "Prob(Omnibus):                  0.558   Jarque-Bera (JB):                0.774\n",
      "Skew:                          -0.391   Prob(JB):                        0.679\n",
      "Kurtosis:                       2.916   Cond. No.                         1.02\n",
      "==============================================================================\n",
      "\n",
      "Notes:\n",
      "[1] Standard Errors assume that the covariance matrix of the errors is correctly specified.\n"
     ]
    }
   ],
   "source": [
    "x1 = sm.add_constant(df['education_std'], prepend=False)\n",
    "mod = sm.OLS(df['income_std'], x1)\n",
    "res_std = mod.fit()\n",
    "print(res_std.summary())"
   ]
  },
  {
   "cell_type": "code",
   "execution_count": 29,
   "id": "0cbea084",
   "metadata": {},
   "outputs": [
    {
     "name": "stdout",
     "output_type": "stream",
     "text": [
      "                            OLS Regression Results                            \n",
      "==============================================================================\n",
      "Dep. Variable:                 Income   R-squared:                       0.931\n",
      "Model:                            OLS   Adj. R-squared:                  0.928\n",
      "Method:                 Least Squares   F-statistic:                     377.6\n",
      "Date:                Fri, 05 May 2023   Prob (F-statistic):           8.63e-18\n",
      "Time:                        23:28:06   Log-Likelihood:                -93.500\n",
      "No. Observations:                  30   AIC:                             191.0\n",
      "Df Residuals:                      28   BIC:                             193.8\n",
      "Df Model:                           1                                         \n",
      "Covariance Type:            nonrobust                                         \n",
      "==============================================================================\n",
      "                 coef    std err          t      P>|t|      [0.025      0.975]\n",
      "------------------------------------------------------------------------------\n",
      "Education      5.5995      0.288     19.431      0.000       5.009       6.190\n",
      "const        -39.4463      4.725     -8.349      0.000     -49.125     -29.768\n",
      "==============================================================================\n",
      "Omnibus:                        1.166   Durbin-Watson:                   1.163\n",
      "Prob(Omnibus):                  0.558   Jarque-Bera (JB):                0.774\n",
      "Skew:                          -0.391   Prob(JB):                        0.679\n",
      "Kurtosis:                       2.916   Cond. No.                         75.3\n",
      "==============================================================================\n",
      "\n",
      "Notes:\n",
      "[1] Standard Errors assume that the covariance matrix of the errors is correctly specified.\n"
     ]
    }
   ],
   "source": [
    "x1 = sm.add_constant(df['Education'], prepend=False)\n",
    "mod = sm.OLS(df['Income'], x1)\n",
    "res = mod.fit()\n",
    "print(res.summary())"
   ]
  },
  {
   "cell_type": "code",
   "execution_count": 30,
   "id": "18fef26f",
   "metadata": {},
   "outputs": [
    {
     "name": "stdout",
     "output_type": "stream",
     "text": [
      "std rsquared: 0.9309624265331176\n",
      "original rsquared: 0.9309624265331176\n",
      "\n",
      "std beta: 0.9648639419799657\n",
      "original beta: 5.599482872928265\n",
      "std alpha(should be 0): 0\n"
     ]
    }
   ],
   "source": [
    "print('std rsquared: '+ str(res_std.rsquared))\n",
    "print('original rsquared: '+ str(res_std.rsquared))\n",
    "print()\n",
    "print('std beta: '+ str(res_std.params[0]))\n",
    "print('original beta: '+ str(res.params[0]))\n",
    "print('std alpha(should be 0): '+ str(int(res_std.params[1])))"
   ]
  },
  {
   "cell_type": "markdown",
   "id": "17940a20",
   "metadata": {},
   "source": [
    "### We can see here that the R-squared is both 0.931. While the standardized data has a beta value of 0.9649, and without standardization, beta = 0.931. "
   ]
  },
  {
   "cell_type": "markdown",
   "id": "cbc3ee37",
   "metadata": {},
   "source": [
    "10. Recompute and print the residuals, RSS, and TSS using the new standardized variables, and then use them to compute and print the r squared. Note that both the TSS and RSS are much lower, but their ratio is the same, and therefore the r squared is the same.\n",
    "Square the correlation between the two variables and print it. What is it the same as?"
   ]
  },
  {
   "cell_type": "code",
   "execution_count": 31,
   "id": "eea68658",
   "metadata": {},
   "outputs": [
    {
     "data": {
      "text/plain": [
       "0     0.478218\n",
       "1     0.402552\n",
       "2     0.040893\n",
       "3    -0.110934\n",
       "4    -0.499954\n",
       "5    -0.086819\n",
       "6    -0.617099\n",
       "7    -0.341561\n",
       "8     0.090263\n",
       "9     0.104902\n",
       "10   -0.250659\n",
       "11   -0.021043\n",
       "12    0.026804\n",
       "13    0.017852\n",
       "14   -0.031071\n",
       "15    0.267378\n",
       "16   -0.101120\n",
       "17    0.258286\n",
       "18   -0.036235\n",
       "19    0.376433\n",
       "20    0.069451\n",
       "21    0.172380\n",
       "22    0.333595\n",
       "23    0.097343\n",
       "24    0.191171\n",
       "25    0.058970\n",
       "26   -0.202905\n",
       "27   -0.078899\n",
       "28   -0.443501\n",
       "29   -0.164690\n",
       "dtype: float64"
      ]
     },
     "execution_count": 31,
     "metadata": {},
     "output_type": "execute_result"
    }
   ],
   "source": [
    "res_std.resid"
   ]
  },
  {
   "cell_type": "code",
   "execution_count": 32,
   "id": "21f3408c",
   "metadata": {},
   "outputs": [
    {
     "name": "stdout",
     "output_type": "stream",
     "text": [
      "rss: 2.00208963053959\n"
     ]
    }
   ],
   "source": [
    "rss= res_std.ssr\n",
    "print('rss: '+ str(res_std.ssr))"
   ]
  },
  {
   "cell_type": "code",
   "execution_count": 33,
   "id": "131d1a64",
   "metadata": {},
   "outputs": [
    {
     "name": "stdout",
     "output_type": "stream",
     "text": [
      "tss: 29.000000000000007\n"
     ]
    }
   ],
   "source": [
    "tss = np.sum((df['income_std']-df['income_std'].mean()) ** 2)\n",
    "print('tss: '+ str(tss))"
   ]
  },
  {
   "cell_type": "code",
   "execution_count": 34,
   "id": "a9a972ef",
   "metadata": {},
   "outputs": [
    {
     "name": "stdout",
     "output_type": "stream",
     "text": [
      "correlation between the two variables: 0.9309624265331173\n"
     ]
    }
   ],
   "source": [
    "print('correlation between the two variables: ' + str(df[['education_std','income_std']].corr().iloc[1][0]**2))"
   ]
  },
  {
   "cell_type": "code",
   "execution_count": 35,
   "id": "5ce4fafc",
   "metadata": {},
   "outputs": [
    {
     "name": "stdout",
     "output_type": "stream",
     "text": [
      "r-squared by rss and tss: 0.9309624265331176\n"
     ]
    }
   ],
   "source": [
    "print('r-squared by rss and tss: ' + str(1-rss/tss))"
   ]
  },
  {
   "cell_type": "markdown",
   "id": "f834b3e4",
   "metadata": {},
   "source": [
    "### We can see that the r-squared calculated by rss and tss is the same as the correlation between the two variables"
   ]
  }
 ],
 "metadata": {
  "kernelspec": {
   "display_name": "Python 3 (ipykernel)",
   "language": "python",
   "name": "python3"
  },
  "language_info": {
   "codemirror_mode": {
    "name": "ipython",
    "version": 3
   },
   "file_extension": ".py",
   "mimetype": "text/x-python",
   "name": "python",
   "nbconvert_exporter": "python",
   "pygments_lexer": "ipython3",
   "version": "3.9.12"
  }
 },
 "nbformat": 4,
 "nbformat_minor": 5
}
